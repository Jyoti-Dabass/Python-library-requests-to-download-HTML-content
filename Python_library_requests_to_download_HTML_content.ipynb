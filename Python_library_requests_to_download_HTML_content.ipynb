{
  "nbformat": 4,
  "nbformat_minor": 0,
  "metadata": {
    "colab": {
      "provenance": []
    },
    "kernelspec": {
      "name": "python3",
      "display_name": "Python 3"
    },
    "language_info": {
      "name": "python"
    }
  },
  "cells": [
    {
      "cell_type": "markdown",
      "source": [
        "USE PYTHON LIBRARY REQUESTS TO DOWNLOAD THE HTML CONTENT OF A WEB PAGE AND THE LIBRARY beautifulSaop4 to extract numeric data from it"
      ],
      "metadata": {
        "id": "2fwlFxOaRqJ_"
      }
    },
    {
      "cell_type": "code",
      "execution_count": 2,
      "metadata": {
        "colab": {
          "base_uri": "https://localhost:8080/"
        },
        "id": "LEi_DKUEQwqS",
        "outputId": "3fbd0520-da3e-4dee-c13f-8873cea25bfb"
      },
      "outputs": [
        {
          "output_type": "stream",
          "name": "stdout",
          "text": [
            "https://www.nlm.nih.gov/\n",
            "https://www.nlm.nih.gov/portals/researchers.html\n",
            "https://www.nlm.nih.gov/portals/publishers.html \n",
            "https://www.nlm.nih.gov/portals/librarians.html \n",
            "https://www.nlm.nih.gov/training.html \n",
            "https://www.nlm.nih.gov/portals/healthcare.html\n",
            "https://www.nlm.nih.gov/about/index.html\n",
            "https://www.nlm.nih.gov/about/visitor.html\n",
            "https://www.nlm.nih.gov/hmd/index.html\n",
            "https://www.nlm.nih.gov/about/org.html\n",
            "https://www.nlm.nih.gov/news/newsandevents.html\n",
            "https://www.nlm.nih.gov/ep/index.html\n",
            "https://www.nlm.nih.gov/research/index.html\n",
            "https://www.ncbi.nlm.nih.gov/\n",
            "https://www.ncbi.nlm.nih.gov/pubmed/\n",
            "https://medlineplus.gov/\n",
            "https://openi.nlm.nih.gov/\n",
            "https://www.ncbi.nlm.nih.gov/mesh\n",
            "https://clinicaltrials.gov/\n",
            "https://blast.ncbi.nlm.nih.gov/Blast.cgi\n",
            "https://nlmdirector.nlm.nih.gov\n",
            "https://nlmdirector.nlm.nih.gov\n",
            "https://www.nlm.nih.gov/research/index.html\n",
            "https://www.nlm.nih.gov/research/highlights.html\n",
            "https://www.nlm.nih.gov/research/researchstaff/staff-index.html\n",
            "https://www.nlm.nih.gov/research/training.html\n",
            "https://uts.nlm.nih.gov/uts/\n",
            "https://uts.nlm.nih.gov/uts/\n",
            "https://www.nlm.nih.gov/research/training.html\n",
            "https://www.nlm.nih.gov/research/training.html\n",
            "https://www.nlm.nih.gov/socialmedia/index.html\n",
            "https://twitter.com/NLM_NIH\n",
            "https://www.facebook.com/nationallibraryofmedicine\n",
            "https://www.youtube.com/user/NLMNIH\n",
            "https://www.google.com/maps/place/8600+Rockville+Pike,+Bethesda,+MD+20894/@38.9959508,-77.101021,17z/data=!3m1!4b1!4m5!3m4!1s0x89b7c95e25765ddb:0x19156f88b27635b8!8m2!3d38.9959508!4d-77.0988323\n",
            "https://www.nlm.nih.gov/web_policies.html\n",
            "https://www.nih.gov/institutes-nih/nih-office-director/office-communications-public-liaison/freedom-information-act-office\n",
            "https://www.hhs.gov/vulnerability-disclosure-policy/index.html\n",
            "https://www.nlm.nih.gov/accessibility.html\n",
            "https://www.nlm.nih.gov/careers/careers.html\n",
            "https://www.nih.gov/\n",
            "https://www.hhs.gov/\n",
            "https://www.usa.gov/\n"
          ]
        }
      ],
      "source": [
        "# import necessary libraries\n",
        "from bs4 import BeautifulSoup\n",
        "import requests\n",
        "import re\n",
        "  \n",
        "  \n",
        "# function to extract html document from given url\n",
        "def getHTMLdocument(url):\n",
        "      \n",
        "    # request for HTML document of given url\n",
        "    response = requests.get(url)\n",
        "      \n",
        "    # response will be provided in JSON format\n",
        "    return response.text\n",
        "  \n",
        "    \n",
        "# assign required credentials\n",
        "# assign URL\n",
        "url_to_scrape = \"https://www.nlm.nih.gov/\"\n",
        "  \n",
        "# create document\n",
        "html_document = getHTMLdocument(url_to_scrape)\n",
        "  \n",
        "# create soap object\n",
        "soup = BeautifulSoup(html_document, 'html.parser')\n",
        "  \n",
        "  \n",
        "# find all the anchor tags with \"href\" \n",
        "# attribute starting with \"https://\"\n",
        "for link in soup.find_all('a', \n",
        "                          attrs={'href': re.compile(\"^https://\")}):\n",
        "    # display the actual urls\n",
        "    print(link.get('href'))  "
      ]
    }
  ]
}